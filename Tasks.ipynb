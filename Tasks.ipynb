{
 "cells": [
  {
   "cell_type": "markdown",
   "metadata": {},
   "source": [
    "# Task #1\n",
    "***"
   ]
  },
  {
   "cell_type": "markdown",
   "metadata": {},
   "source": [
    "Write a Python function called `sqrt2`that calculates and prints to the screen the square root of 2 to 100 decimal places.\n",
    "***"
   ]
  },
  {
   "cell_type": "markdown",
   "metadata": {},
   "source": [
    "### Solution for the Task #1"
   ]
  },
  {
   "cell_type": "markdown",
   "metadata": {},
   "source": [
    "During the lecture it was introduced the Newton's method to calculate $\\sqrt{2}$ without using any module from the standard Python library or otherwise. The code below was taken from the lecture:"
   ]
  },
  {
   "cell_type": "code",
   "execution_count": 1,
   "metadata": {},
   "outputs": [],
   "source": [
    "# A function to calculate the square root of a number x.\n",
    "def sqrt():\n",
    "    \"\"\"\n",
    "    A function to calculate the square root of a number x\n",
    "    \"\"\"\n",
    "    # Initial guess for the square root z\n",
    "    x = 2\n",
    "    z = x / 2\n",
    "    # Loop until we're happy with the accuracy\n",
    "    while abs(x - (z * z)) > 0.000001:\n",
    "        # Calculate a better guess for the square root.\n",
    "        z -= (z*z - x) / (2*z)\n",
    "    # Return the (approximate) square root of x.   \n",
    "    return z"
   ]
  },
  {
   "cell_type": "code",
   "execution_count": 2,
   "metadata": {},
   "outputs": [
    {
     "data": {
      "text/plain": [
       "1.4142135623746899"
      ]
     },
     "execution_count": 2,
     "metadata": {},
     "output_type": "execute_result"
    }
   ],
   "source": [
    "sqrt()"
   ]
  },
  {
   "cell_type": "markdown",
   "metadata": {},
   "source": [
    "For this assessment I've choosen to show how to calculate $\\sqrt{2}$ using a different method - **Binary Search**."
   ]
  },
  {
   "cell_type": "markdown",
   "metadata": {},
   "source": [
    "### CALCULATION OF $\\sqrt{2}$ USING BINARY SEARCH \n",
    "\n",
    "In computer science, **Binary Search**, also known as half-interval search,[1] logarithmic search,[2] or binary chop,[3] is a search algorithm that finds the position of a target value within a sorted array. [1]\n",
    "\n",
    "It compares the middle number of the array with the searched value. If the middle number equals the searched value, the position of the middle number is returned. If the middle number is bigger, the left portion of the array is searched using the same logic (binary search), else the right portion of the array is searched using binary search. [2]."
   ]
  },
  {
   "cell_type": "markdown",
   "metadata": {},
   "source": [
    "To find a square root of the value 2, we are going to serch for a number that falls in the range between lowest boundary = 0 and highest boundary = 2."
   ]
  },
  {
   "cell_type": "code",
   "execution_count": 8,
   "metadata": {},
   "outputs": [
    {
     "name": "stdout",
     "output_type": "stream",
     "text": [
      "1.414213562373095048801688724209698078569671875376948073176679737990732478462107038850387534327641573\n"
     ]
    }
   ],
   "source": [
    "# import decimal module \n",
    "# as the precision using the floating point numbers is limited. A Python float have about 16 decimals of precision. Hawever,\n",
    "from decimal import *\n",
    "#as per Task#1, the answer has to have 100 decimal places, therefore the precision is equal 100 [4].\n",
    "getcontext().prec = 100\n",
    "\n",
    "def sqrt2():\n",
    "    \"\"\"\n",
    "    A function to calculate the square root of a number 2\n",
    "    \"\"\"\n",
    "    # lowest boundary value is equal 0, and the highest is equal 2. The square root of 2 should be between these two values.\n",
    "    num = Decimal(2)\n",
    "    low = Decimal(0)\n",
    "    high = num\n",
    "    \n",
    "    # Our initial guess value will be the middle value between highest & lowest boundaries.\n",
    "    guess = (high - low) / 2\n",
    "    \n",
    "    # Looping until the guess value neither equal low nor equal high values:\n",
    "    while guess != low and guess != high:\n",
    "        # calculating square of the guess value\n",
    "        sqr = guess * guess\n",
    "        \n",
    "        # if square root of the guessed number equal the initial num, break the loop\n",
    "        if sqr == num:\n",
    "            break\n",
    "        # otherwise if sqrt is less than our number 2 the low is getting a new value, which is equal guess\n",
    "        elif(sqr < num):\n",
    "            low = guess\n",
    "        # otherwise the high is getting a new value, which is equal guess\n",
    "        else:\n",
    "            high = guess\n",
    "        # guess is getting a new middle value (the formula: low + (high - low) / 2 is used instead of (high - low) / 2 , to help avoid overflow of 32-big integer)\n",
    "        guess = low + (high - low) / 2\n",
    "    \n",
    "    # if guess is equal one of value of the boundaries\n",
    "    else:\n",
    "        # checking if the difference between squared low boundary minus initial number 2 is less than the difference between squared high boundary minus 2\n",
    "        if abs(low * low - num) < abs(high * high - num):\n",
    "            # if true, low is getting a new value, which is equal guess\n",
    "            guess = low\n",
    "        else:\n",
    "            # otherwise high is getting a new value\n",
    "            guess = high\n",
    "    # returning the answer\n",
    "    return guess\n",
    "\n",
    "# printing the answer to 100 decimal places:\n",
    "print(sqrt2())"
   ]
  },
  {
   "cell_type": "markdown",
   "metadata": {},
   "source": []
  },
  {
   "cell_type": "markdown",
   "metadata": {},
   "source": [
    "# Task #2\n",
    "***"
   ]
  },
  {
   "cell_type": "markdown",
   "metadata": {},
   "source": [
    "The Chi-squared test for independence is a statistical hypothesis test like a t-test. It is used to analyse whether two categorical variables\n",
    "are independent. The Wikipedia article gives the table below as an example [4], stating the Chi-squared value based on it is approximately 24.6. Use `scipy.stats`\n",
    "to verify this value and calculate the associated p value.\n",
    "\n",
    "|  | A | B | C | D | Total |\n",
    "| --- | --- | --- | --- | --- | --- |\n",
    "| White collar | 90 | 60 | 104 | 95 | 349 |\n",
    "| Blue collar | 30 | 50 | 51 | 20 | 151 |\n",
    "| No collar | 30 | 40 | 45 | 35 | 150 |\n",
    "| Total collar | 150 | 150 | 200 | 150 | 650 |\n",
    "\n",
    "***"
   ]
  },
  {
   "cell_type": "markdown",
   "metadata": {},
   "source": [
    "The **Pearson’s Chi-Squared test**, or just **Chi-Squared test** for short, is named for Karl Pearson, although there are variations on the test.\n",
    "\n",
    "The Chi-Squared test is a statistical hypothesis test that assumes (the null hypothesis) that the observed frequencies for a categorical variable match the expected frequencies for the categorical variable. The test calculates a statistic that has a chi-squared distribution, named for the Greek capital letter Chi $\\chi$ pronounced “ki” as in kite.[10].\n",
    "\n",
    "The result of the test is a test statistic that has a chi-squared distribution and can be interpreted to reject or fail to reject the assumption or null hypothesis that the observed and expected frequencies are the same.\n",
    "\n",
    "We can interpret the test statistic in the context of the chi-squared distribution with the requisite number of degress of freedom as follows:\n",
    "\n",
    "* If **Statistic >= Critical Value**: significant result, reject null hypothesis (H0), dependent.\n",
    "* If **Statistic < Critical Value**: not significant result, fail to reject null hypothesis (H0), independent.\n",
    "\n",
    "In terms of a p-value and a chosen significance level (alpha), the test can be interpreted as follows:\n",
    "\n",
    "* If **p-value <= ignificance level**: significant result, reject null hypothesis (H0), dependent.\n",
    "* If **p-value > ignificance level**: not significant result, fail to reject null hypothesis (H0), independent."
   ]
  },
  {
   "cell_type": "markdown",
   "metadata": {},
   "source": [
    "### Solution for the Task #1"
   ]
  },
  {
   "cell_type": "markdown",
   "metadata": {},
   "source": [
    "Suppose there is a city of 1,000,000 residents with four neighborhoods: A, B, C, and D. A random sample of 650 residents of the city is taken and their occupation is recorded as \"white collar\", \"blue collar\", or \"no collar\". [4].\n",
    "\n",
    "The null hypothesis is that each person's neighborhood of residence is independent of the person's occupational classification. \n",
    "\n",
    "The data are tabulated above in the Task #2 section."
   ]
  },
  {
   "cell_type": "code",
   "execution_count": 23,
   "metadata": {},
   "outputs": [
    {
     "name": "stdout",
     "output_type": "stream",
     "text": [
      "Initial table:\n",
      "[[ 90  60 104  95]\n",
      " [ 30  50  51  20]\n",
      " [ 30  40  45  35]]\n",
      "\n",
      "p-value =  0.00041\n",
      "Degrees of freedom =  6\n",
      "Chi-squared statistic =  24.6\n",
      "Critical value =  12.6\n"
     ]
    }
   ],
   "source": [
    "import numpy as np\n",
    "from scipy import stats\n",
    "\n",
    "# Input the data.\n",
    "white = [90, 60, 104, 95]\n",
    "blue = [30, 50, 51, 20]\n",
    "no = [30,  40,  45, 35]\n",
    "\n",
    "# creating an array from the data above\n",
    "table = np.array([white, blue, no])\n",
    "\n",
    "# runing the Chi-squared test using scipy.stats library\n",
    "# Chi2_st is chi-square statistic\n",
    "# p_val is a p-value\n",
    "# dof = degrees of freedom (is calculated by taking the number of rows minus one \n",
    "# and multiplying this result by the number of columns minus one)\n",
    "# con_tbl is a contingency table with expected values based on all of our samples.\n",
    "chi2_st, p_val, dof, con_tbl = stats.chi2_contingency(table)\n",
    "\n",
    "# probability\n",
    "prob = 0.95\n",
    "\n",
    "#calvulating the critical value\n",
    "critical = chi2.ppf(prob, dof)\n",
    "\n",
    "#Output\n",
    "print(\"Initial table:\")\n",
    "print(table)\n",
    "print(\"\")\n",
    "print(\"p-value = \",format(p_val, '.5f'))\n",
    "print(\"Degrees of freedom = \",dof)\n",
    "print(\"Chi-squared statistic = \", format(chi2_st, '.1f'))\n",
    "print(\"Critical value = \", format(critical, '.1f'))"
   ]
  },
  {
   "cell_type": "markdown",
   "metadata": {},
   "source": [
    "P-value (0.00041) is less than the significance level (0.05), therefore it's statistically significant. This means there’s only about a 0.04% chance that we’d see this result if the person's neighborhood of residence were truly random.\n",
    "\n",
    "The Chi-squared statistics is greater than the Critical value, therefore based on this we can reject the null hypothesis (H0), as the result is significant."
   ]
  },
  {
   "cell_type": "code",
   "execution_count": 24,
   "metadata": {},
   "outputs": [
    {
     "name": "stdout",
     "output_type": "stream",
     "text": [
      "Contingency table\n",
      "[[ 80.53846154  80.53846154 107.38461538  80.53846154]\n",
      " [ 34.84615385  34.84615385  46.46153846  34.84615385]\n",
      " [ 34.61538462  34.61538462  46.15384615  34.61538462]]\n"
     ]
    }
   ],
   "source": [
    "print(\"Contingency table\")\n",
    "print(con_tbl)"
   ]
  },
  {
   "cell_type": "markdown",
   "metadata": {},
   "source": [
    "The contingency table produced values that are, in some cases, quite different comparing to the initial dataset. This is because we are using too small of a sample to accurate measure the population."
   ]
  },
  {
   "cell_type": "markdown",
   "metadata": {},
   "source": [
    "# Task #3\n",
    "***"
   ]
  },
  {
   "cell_type": "markdown",
   "metadata": {},
   "source": [
    "The standard deviation of an array of numbers x is calculated using numpy as `np.sqrt(np.sum((x - np.mean(x))**2)/len(x))`. However, Microsoft Excel has two different versions of the standard deviation calculation, `STDEV.P` and `STDEV.S`. The `STDEV.P` function performs the above calculation but in the `STDEV.S` calculation the division is by `len(x)-1` rather than `len(x)`. Research these Excel functions, writing a note in a Markdown cell about the difference between them. Then use `numpy` to perform a simulation demonstrating that the `STDEV.S` calculation is a better estimate for the standard deviation of a population when performed on a sample. \n",
    "\n",
    "*Note that part of this task is to figure out the terminology in the previous sentence."
   ]
  },
  {
   "cell_type": "markdown",
   "metadata": {},
   "source": [
    "MS Excel function `STDEV.S` function is used to calculate the standard deviation in the sample data set.\n",
    "`STDEV.P` is used to calculate the standard deviation for the entire population.\n",
    "\n",
    "`numpy.std()` function in Python returns the standard deviation, a measure of the spread of a distribution, of the array elements. \n",
    "The standard deviation is the square root of the average of the squared deviations from the mean, i.e., `std = sqrt(mean(x))`, where `x = abs(a - a.mean())**2`.\n",
    "\n",
    "The average squared deviation is typically calculated as `x.sum()/N`, where `N = len(x)`. If, however, **ddof** (Delta Degrees of Freedom. By default ddof is zero) is specified, the divisor **N - ddof** is used instead. In standard statistical practice, **ddof=1** provides an unbiased estimator of the variance of the infinite population. **ddof=0** provides a maximum likelihood estimate of the variance for normally distributed variables. The standard deviation computed in this function is the square root of the estimated variance, so even with ddof=1, it will not be an unbiased estimate of the standard deviation per set.[20]"
   ]
  },
  {
   "cell_type": "code",
   "execution_count": null,
   "metadata": {},
   "outputs": [],
   "source": []
  },
  {
   "cell_type": "markdown",
   "metadata": {},
   "source": [
    "\n",
    "\n",
    "When dealing with statistical data, it is important to distinguish between \"population\" data sets and \"sample\" data sets: [20]\n",
    "- A **population** data set contains all members of a specified group (the entire list of possible data values). \n",
    "- A **sample data** set contains a part, or a subset, of a population. The size of a sample is always less than the size of the population from which it is taken.\n",
    "\n",
    "When calculating the standard deviation, it is important to know if you are working with an entire population (where you have all of the possible data), or if you are working with only a sample (a part) of the data. In addition, if you are using a sample of the data, you need to know if you will be making generalizations about the entire population, based upon this sample.\n",
    "\n",
    "Use \"population\" when:\n",
    "1. you know you have the entire population.\n",
    "2. you have a sample of a larger population, but you are only interested in this sample (and you will not be generalizing your findings to the entire larger population).\n",
    "\n",
    "Use \"sample\" when:\n",
    "1. you have a sample of a larger population, and you wish to generalize your findings from this sample to the entire larger population from which this sample was taken. The sample will be used as an estimate of the population.\n",
    "\n",
    "Difference between `STDEV.S` and `STDEV.P`:[23]\n",
    "- The `STDEV.S` function is used when your data is a sample of entire population.\n",
    "- The `STDEV.P` function is used when your data represents the entire population.\n",
    "- In `STDEV.S` the squared deviation is divided by total number of sample -1. It is represented sa **N-1**.\n",
    "- In `STDEV.P` function, the squared deviation is divided by total number of arguments, mostly represented as **N**. that is why, `STDEV.P` is smaller than `STDEV.S`. Since, `STDEV.P` function takes whole data, and some factors may dominate the result standard deviation. And Since it will be taken as the standard deviation for everyone in data, even for minorities, this is called Biased Analysis. This is why, this standard deviation is recommended to use only when analysis is non-destructive.\n",
    "- The `STDEV.S` function is used on small sample of entire population, we subtract 1 from denominator (number of samples arguments). This is called non-biassed analysis of standard deviation. This is used when analysis is destructive.\n",
    "\n",
    "The practice of dividing by `N - 1` (instead of `N`) when working with a sample of the entire population, produces a slight difference in the final calculation. This slight difference allows the sample to give a better mathematical estimate of the population. Think of dividing by `N - 1` (instead of `N`) in the sample as a means of \"compensating\" for the fact that we are working with a sample of the population, rather than with the entire population. It statistically gives the best estimate.[21]\n"
   ]
  },
  {
   "cell_type": "code",
   "execution_count": null,
   "metadata": {},
   "outputs": [],
   "source": []
  },
  {
   "cell_type": "markdown",
   "metadata": {},
   "source": [
    "## Currently working on it"
   ]
  },
  {
   "cell_type": "code",
   "execution_count": 198,
   "metadata": {},
   "outputs": [],
   "source": [
    "import numpy as np\n",
    "import statistics as sts\n",
    "import random\n",
    "from math import sqrt\n",
    "\n",
    "# Lets generate set of 100 random numbers, between 1 and 20\n",
    "\n",
    "N = 1000\n",
    "population = pd.Series(np.random.randint(1, 30, N))\n",
    "\n",
    "p_sd = np.std(population)\n",
    "p_mean = np.mean(population)\n",
    "\n",
    "\n",
    "index = 0\n",
    "meanArray = []\n",
    "avgArray = []\n",
    "indexArray =[]\n",
    "sampleNArray = []\n",
    "sampleN1Array = []\n",
    "total_mean = 0\n",
    "avg_mean = 0\n",
    "for k in range(1000):\n",
    "    # lets choose sample of numbers\n",
    "    sample= random.sample(set(population), 20)\n",
    "    \n",
    "    # calculate mean\n",
    "    sample_mean=np.mean(sample)\n",
    "    index = k+1\n",
    "    total_mean = (total_mean + sample_mean)\n",
    "    avg_mean = total_mean/(index)\n",
    "    \n",
    "    meanArray.append(sample_mean)\n",
    "    avgArray.append(avg_mean)\n",
    "    indexArray.append(index)\n",
    "\n",
    "    # calculate sd for n and n-1\n",
    "    sample_sd_n = np.std(sample)\n",
    "    sample_sd_n1 = np.std(sample, ddof=1)\n",
    "    \n",
    "    sampleNArray.append(sample_sd_n)\n",
    "    sampleN1Array.append(sample_sd_n1)"
   ]
  },
  {
   "cell_type": "markdown",
   "metadata": {},
   "source": []
  },
  {
   "cell_type": "code",
   "execution_count": 199,
   "metadata": {},
   "outputs": [
    {
     "name": "stdout",
     "output_type": "stream",
     "text": [
      "Population Mean: 14.973\n",
      "Population Standard deviation: 8.569729925732783\n"
     ]
    },
    {
     "name": "stderr",
     "output_type": "stream",
     "text": [
      "C:\\Users\\I304319\\Anaconda3_2020-07\\lib\\site-packages\\seaborn\\distributions.py:2551: FutureWarning: `distplot` is a deprecated function and will be removed in a future version. Please adapt your code to use either `displot` (a figure-level function with similar flexibility) or `histplot` (an axes-level function for histograms).\n",
      "  warnings.warn(msg, FutureWarning)\n"
     ]
    },
    {
     "data": {
      "text/plain": [
       "<AxesSubplot:ylabel='Density'>"
      ]
     },
     "execution_count": 199,
     "metadata": {},
     "output_type": "execute_result"
    },
    {
     "data": {
      "image/png": "[encoded data removed]",
      "text/plain": [
       "<Figure size 1080x360 with 1 Axes>"
      ]
     },
     "metadata": {
      "needs_background": "light"
     },
     "output_type": "display_data"
    }
   ],
   "source": [
    "print('Population Mean: ' + str(p_mean))\n",
    "print('Population Standard deviation: ' + str(p_sd))\n",
    "\n",
    "sns.distplot(population, color = \"rebeccapurple\")"
   ]
  },
  {
   "cell_type": "markdown",
   "metadata": {},
   "source": [
    "As we expect, if we average all the sample means we can see that the it is a good estimate for the true population mean:"
   ]
  },
  {
   "cell_type": "code",
   "execution_count": 200,
   "metadata": {},
   "outputs": [
    {
     "data": {
      "text/plain": [
       "<matplotlib.collections.LineCollection at 0x1c351914f70>"
      ]
     },
     "execution_count": 200,
     "metadata": {},
     "output_type": "execute_result"
    },
    {
     "data": {
      "image/png": "[encoded data removed]",
      "text/plain": [
       "<Figure size 1080x360 with 1 Axes>"
      ]
     },
     "metadata": {
      "needs_background": "light"
     },
     "output_type": "display_data"
    }
   ],
   "source": [
    "plt.plot(avgArray)\n",
    "plt.hlines(p_mean, 0, 1000)"
   ]
  },
  {
   "cell_type": "code",
   "execution_count": 196,
   "metadata": {},
   "outputs": [
    {
     "data": {
      "text/plain": [
       "<matplotlib.collections.LineCollection at 0x1c34f3951f0>"
      ]
     },
     "execution_count": 196,
     "metadata": {},
     "output_type": "execute_result"
    },
    {
     "data": {
      "image/png": "[encoded data removed]",
      "text/plain": [
       "<Figure size 1080x360 with 1 Axes>"
      ]
     },
     "metadata": {
      "needs_background": "light"
     },
     "output_type": "display_data"
    }
   ],
   "source": [
    "from pandas import DataFrame\n",
    "df = DataFrame (meanArray, columns=['Sample_mean'])\n",
    "exp_mean = df.expanding().mean()\n",
    "\n",
    "plt.plot(exp_mean)\n",
    "plt.hlines(p_mean, 0, 1000)"
   ]
  },
  {
   "cell_type": "markdown",
   "metadata": {},
   "source": [
    "Now let's compare the results we would get by using the biased estimator (dividing by n) and the unbiased estimator (dividing by n−1)"
   ]
  },
  {
   "cell_type": "code",
   "execution_count": 201,
   "metadata": {},
   "outputs": [
    {
     "data": {
      "text/plain": [
       "<matplotlib.collections.LineCollection at 0x1c351c2b7f0>"
      ]
     },
     "execution_count": 201,
     "metadata": {},
     "output_type": "execute_result"
    },
    {
     "data": {
      "image/png": "[encoded data removed]",
      "text/plain": [
       "<Figure size 1080x360 with 1 Axes>"
      ]
     },
     "metadata": {
      "needs_background": "light"
     },
     "output_type": "display_data"
    }
   ],
   "source": [
    "ssd_NArray = DataFrame (sampleNArray, columns=['Sample_biased_sd'])\n",
    "ssd_N1Array = DataFrame (sampleN1Array, columns=['Sample_unbiased_sd'])\n",
    "exp_ssd_N = ssd_NArray.expanding().mean()\n",
    "exp_ssd_N1 = ssd_N1Array.expanding().mean()\n",
    "\n",
    "plt.plot(exp_ssd_N, color='blue')\n",
    "plt.plot(exp_ssd_N1, color='orange')\n",
    "plt.hlines(p_sd, 0, 1000)"
   ]
  },
  {
   "cell_type": "code",
   "execution_count": null,
   "metadata": {},
   "outputs": [],
   "source": []
  },
  {
   "cell_type": "code",
   "execution_count": null,
   "metadata": {},
   "outputs": [],
   "source": []
  },
  {
   "cell_type": "code",
   "execution_count": null,
   "metadata": {},
   "outputs": [],
   "source": []
  },
  {
   "cell_type": "code",
   "execution_count": null,
   "metadata": {},
   "outputs": [],
   "source": []
  },
  {
   "cell_type": "code",
   "execution_count": null,
   "metadata": {},
   "outputs": [],
   "source": []
  },
  {
   "cell_type": "code",
   "execution_count": null,
   "metadata": {},
   "outputs": [],
   "source": []
  },
  {
   "cell_type": "code",
   "execution_count": null,
   "metadata": {},
   "outputs": [],
   "source": []
  },
  {
   "cell_type": "code",
   "execution_count": null,
   "metadata": {},
   "outputs": [],
   "source": []
  },
  {
   "cell_type": "code",
   "execution_count": null,
   "metadata": {},
   "outputs": [],
   "source": []
  },
  {
   "cell_type": "code",
   "execution_count": null,
   "metadata": {},
   "outputs": [],
   "source": []
  },
  {
   "cell_type": "code",
   "execution_count": null,
   "metadata": {},
   "outputs": [],
   "source": []
  },
  {
   "cell_type": "code",
   "execution_count": null,
   "metadata": {},
   "outputs": [],
   "source": []
  },
  {
   "cell_type": "code",
   "execution_count": 111,
   "metadata": {},
   "outputs": [
    {
     "data": {
      "text/plain": [
       "<matplotlib.collections.LineCollection at 0x1c34b3c3850>"
      ]
     },
     "execution_count": 111,
     "metadata": {},
     "output_type": "execute_result"
    },
    {
     "data": {
      "image/png": "[encoded data removed]",
      "text/plain": [
       "<Figure size 1080x360 with 1 Axes>"
      ]
     },
     "metadata": {
      "needs_background": "light"
     },
     "output_type": "display_data"
    }
   ],
   "source": [
    "plt.plot(exp_mean)\n",
    "plt.hlines(myarray_mean, 0, 1000)"
   ]
  },
  {
   "cell_type": "code",
   "execution_count": null,
   "metadata": {},
   "outputs": [],
   "source": [
    "\n"
   ]
  },
  {
   "cell_type": "code",
   "execution_count": 98,
   "metadata": {},
   "outputs": [
    {
     "ename": "AttributeError",
     "evalue": "'list' object has no attribute 'expanding'",
     "output_type": "error",
     "traceback": [
      "\u001b[1;31m---------------------------------------------------------------------------\u001b[0m",
      "\u001b[1;31mAttributeError\u001b[0m                            Traceback (most recent call last)",
      "\u001b[1;32m<ipython-input-98-c8f3e444a263>\u001b[0m in \u001b[0;36m<module>\u001b[1;34m\u001b[0m\n\u001b[1;32m----> 1\u001b[1;33m \u001b[0mexp_mean\u001b[0m \u001b[1;33m=\u001b[0m \u001b[0mmeanArray\u001b[0m\u001b[1;33m.\u001b[0m\u001b[0mexpanding\u001b[0m\u001b[1;33m(\u001b[0m\u001b[1;33m)\u001b[0m\u001b[1;33m.\u001b[0m\u001b[0mmean\u001b[0m\u001b[1;33m(\u001b[0m\u001b[1;33m)\u001b[0m\u001b[1;33m\u001b[0m\u001b[1;33m\u001b[0m\u001b[0m\n\u001b[0m",
      "\u001b[1;31mAttributeError\u001b[0m: 'list' object has no attribute 'expanding'"
     ]
    }
   ],
   "source": [
    "exp_mean = meanArray.expanding().mean()"
   ]
  },
  {
   "cell_type": "code",
   "execution_count": null,
   "metadata": {},
   "outputs": [],
   "source": []
  },
  {
   "cell_type": "code",
   "execution_count": null,
   "metadata": {},
   "outputs": [],
   "source": []
  },
  {
   "cell_type": "code",
   "execution_count": null,
   "metadata": {},
   "outputs": [],
   "source": []
  },
  {
   "cell_type": "code",
   "execution_count": null,
   "metadata": {},
   "outputs": [],
   "source": []
  },
  {
   "cell_type": "markdown",
   "metadata": {},
   "source": [
    "## Testing different code"
   ]
  },
  {
   "cell_type": "code",
   "execution_count": 119,
   "metadata": {},
   "outputs": [],
   "source": [
    "%matplotlib inline\n",
    "import matplotlib.pyplot as plt\n",
    "from IPython.core.pylabtools import figsize\n",
    "figsize(15, 5)\n",
    "\n",
    "import pandas as pd\n",
    "import numpy as np\n",
    "import statistics as sts"
   ]
  },
  {
   "cell_type": "code",
   "execution_count": 120,
   "metadata": {},
   "outputs": [],
   "source": [
    "np.random.seed(42)\n",
    "N = 100000\n",
    "population = pd.Series(np.random.randint(1, 11, N))"
   ]
  },
  {
   "cell_type": "code",
   "execution_count": 72,
   "metadata": {},
   "outputs": [
    {
     "name": "stdout",
     "output_type": "stream",
     "text": [
      "0        7\n",
      "1        4\n",
      "2        8\n",
      "3        5\n",
      "4        7\n",
      "        ..\n",
      "99995    5\n",
      "99996    4\n",
      "99997    1\n",
      "99998    4\n",
      "99999    1\n",
      "Length: 100000, dtype: int32\n"
     ]
    }
   ],
   "source": [
    "print(population)"
   ]
  },
  {
   "cell_type": "code",
   "execution_count": 121,
   "metadata": {},
   "outputs": [
    {
     "data": {
      "text/plain": [
       "5.51556"
      ]
     },
     "execution_count": 121,
     "metadata": {},
     "output_type": "execute_result"
    }
   ],
   "source": [
    "population.mean()"
   ]
  },
  {
   "cell_type": "code",
   "execution_count": 122,
   "metadata": {},
   "outputs": [
    {
     "data": {
      "text/plain": [
       "8.2592178864"
      ]
     },
     "execution_count": 122,
     "metadata": {},
     "output_type": "execute_result"
    }
   ],
   "source": [
    "((population - population.mean()) ** 2).sum() / N"
   ]
  },
  {
   "cell_type": "code",
   "execution_count": 123,
   "metadata": {},
   "outputs": [
    {
     "data": {
      "text/plain": [
       "2.87388550335604"
      ]
     },
     "execution_count": 123,
     "metadata": {},
     "output_type": "execute_result"
    }
   ],
   "source": [
    "np.std(population)"
   ]
  },
  {
   "cell_type": "code",
   "execution_count": 124,
   "metadata": {},
   "outputs": [
    {
     "data": {
      "text/plain": [
       "8.259300479404795"
      ]
     },
     "execution_count": 124,
     "metadata": {},
     "output_type": "execute_result"
    }
   ],
   "source": [
    "sts.variance(population)"
   ]
  },
  {
   "cell_type": "code",
   "execution_count": 125,
   "metadata": {},
   "outputs": [
    {
     "data": {
      "text/plain": [
       "2.8738998728913288"
      ]
     },
     "execution_count": 125,
     "metadata": {},
     "output_type": "execute_result"
    }
   ],
   "source": [
    "sqrt(sts.variance(population))"
   ]
  },
  {
   "cell_type": "code",
   "execution_count": null,
   "metadata": {},
   "outputs": [],
   "source": []
  },
  {
   "cell_type": "code",
   "execution_count": null,
   "metadata": {},
   "outputs": [],
   "source": []
  },
  {
   "cell_type": "code",
   "execution_count": 126,
   "metadata": {},
   "outputs": [
    {
     "data": {
      "text/html": [
       "<div>\n",
       "<style scoped>\n",
       "    .dataframe tbody tr th:only-of-type {\n",
       "        vertical-align: middle;\n",
       "    }\n",
       "\n",
       "    .dataframe tbody tr th {\n",
       "        vertical-align: top;\n",
       "    }\n",
       "\n",
       "    .dataframe thead th {\n",
       "        text-align: right;\n",
       "    }\n",
       "</style>\n",
       "<table border=\"1\" class=\"dataframe\">\n",
       "  <thead>\n",
       "    <tr style=\"text-align: right;\">\n",
       "      <th></th>\n",
       "      <th>0</th>\n",
       "      <th>1</th>\n",
       "      <th>2</th>\n",
       "      <th>3</th>\n",
       "      <th>4</th>\n",
       "      <th>5</th>\n",
       "      <th>6</th>\n",
       "      <th>7</th>\n",
       "      <th>8</th>\n",
       "      <th>9</th>\n",
       "      <th>...</th>\n",
       "      <th>20</th>\n",
       "      <th>21</th>\n",
       "      <th>22</th>\n",
       "      <th>23</th>\n",
       "      <th>24</th>\n",
       "      <th>25</th>\n",
       "      <th>26</th>\n",
       "      <th>27</th>\n",
       "      <th>28</th>\n",
       "      <th>29</th>\n",
       "    </tr>\n",
       "  </thead>\n",
       "  <tbody>\n",
       "    <tr>\n",
       "      <th>495</th>\n",
       "      <td>8</td>\n",
       "      <td>9</td>\n",
       "      <td>10</td>\n",
       "      <td>2</td>\n",
       "      <td>9</td>\n",
       "      <td>10</td>\n",
       "      <td>5</td>\n",
       "      <td>9</td>\n",
       "      <td>7</td>\n",
       "      <td>3</td>\n",
       "      <td>...</td>\n",
       "      <td>4</td>\n",
       "      <td>5</td>\n",
       "      <td>8</td>\n",
       "      <td>4</td>\n",
       "      <td>7</td>\n",
       "      <td>6</td>\n",
       "      <td>1</td>\n",
       "      <td>8</td>\n",
       "      <td>7</td>\n",
       "      <td>3</td>\n",
       "    </tr>\n",
       "    <tr>\n",
       "      <th>496</th>\n",
       "      <td>3</td>\n",
       "      <td>9</td>\n",
       "      <td>8</td>\n",
       "      <td>5</td>\n",
       "      <td>3</td>\n",
       "      <td>2</td>\n",
       "      <td>9</td>\n",
       "      <td>3</td>\n",
       "      <td>6</td>\n",
       "      <td>8</td>\n",
       "      <td>...</td>\n",
       "      <td>10</td>\n",
       "      <td>9</td>\n",
       "      <td>3</td>\n",
       "      <td>3</td>\n",
       "      <td>8</td>\n",
       "      <td>10</td>\n",
       "      <td>1</td>\n",
       "      <td>6</td>\n",
       "      <td>8</td>\n",
       "      <td>10</td>\n",
       "    </tr>\n",
       "    <tr>\n",
       "      <th>497</th>\n",
       "      <td>9</td>\n",
       "      <td>9</td>\n",
       "      <td>4</td>\n",
       "      <td>7</td>\n",
       "      <td>9</td>\n",
       "      <td>4</td>\n",
       "      <td>10</td>\n",
       "      <td>2</td>\n",
       "      <td>10</td>\n",
       "      <td>5</td>\n",
       "      <td>...</td>\n",
       "      <td>1</td>\n",
       "      <td>5</td>\n",
       "      <td>4</td>\n",
       "      <td>10</td>\n",
       "      <td>1</td>\n",
       "      <td>2</td>\n",
       "      <td>9</td>\n",
       "      <td>6</td>\n",
       "      <td>2</td>\n",
       "      <td>7</td>\n",
       "    </tr>\n",
       "    <tr>\n",
       "      <th>498</th>\n",
       "      <td>10</td>\n",
       "      <td>2</td>\n",
       "      <td>9</td>\n",
       "      <td>8</td>\n",
       "      <td>5</td>\n",
       "      <td>5</td>\n",
       "      <td>8</td>\n",
       "      <td>1</td>\n",
       "      <td>8</td>\n",
       "      <td>1</td>\n",
       "      <td>...</td>\n",
       "      <td>9</td>\n",
       "      <td>2</td>\n",
       "      <td>10</td>\n",
       "      <td>2</td>\n",
       "      <td>3</td>\n",
       "      <td>6</td>\n",
       "      <td>8</td>\n",
       "      <td>1</td>\n",
       "      <td>10</td>\n",
       "      <td>2</td>\n",
       "    </tr>\n",
       "    <tr>\n",
       "      <th>499</th>\n",
       "      <td>9</td>\n",
       "      <td>2</td>\n",
       "      <td>10</td>\n",
       "      <td>6</td>\n",
       "      <td>4</td>\n",
       "      <td>7</td>\n",
       "      <td>2</td>\n",
       "      <td>1</td>\n",
       "      <td>6</td>\n",
       "      <td>1</td>\n",
       "      <td>...</td>\n",
       "      <td>3</td>\n",
       "      <td>10</td>\n",
       "      <td>1</td>\n",
       "      <td>4</td>\n",
       "      <td>7</td>\n",
       "      <td>9</td>\n",
       "      <td>6</td>\n",
       "      <td>6</td>\n",
       "      <td>5</td>\n",
       "      <td>8</td>\n",
       "    </tr>\n",
       "  </tbody>\n",
       "</table>\n",
       "<p>5 rows × 30 columns</p>\n",
       "</div>"
      ],
      "text/plain": [
       "     0   1   2   3   4   5   6   7   8   9   ...  20  21  22  23  24  25  26  \\\n",
       "495   8   9  10   2   9  10   5   9   7   3  ...   4   5   8   4   7   6   1   \n",
       "496   3   9   8   5   3   2   9   3   6   8  ...  10   9   3   3   8  10   1   \n",
       "497   9   9   4   7   9   4  10   2  10   5  ...   1   5   4  10   1   2   9   \n",
       "498  10   2   9   8   5   5   8   1   8   1  ...   9   2  10   2   3   6   8   \n",
       "499   9   2  10   6   4   7   2   1   6   1  ...   3  10   1   4   7   9   6   \n",
       "\n",
       "     27  28  29  \n",
       "495   8   7   3  \n",
       "496   6   8  10  \n",
       "497   6   2   7  \n",
       "498   1  10   2  \n",
       "499   6   5   8  \n",
       "\n",
       "[5 rows x 30 columns]"
      ]
     },
     "execution_count": 126,
     "metadata": {},
     "output_type": "execute_result"
    }
   ],
   "source": [
    "samples = {}\n",
    "n = 30  # size of each sample\n",
    "num_samples = 500  # we are drawing 500 samples, each with size n\n",
    "for i in range(num_samples):\n",
    "    samples[i] = population.sample(n).reset_index(drop=True)\n",
    "    \n",
    "samples = pd.DataFrame(samples)\n",
    "samples.T.tail()"
   ]
  },
  {
   "cell_type": "code",
   "execution_count": 127,
   "metadata": {},
   "outputs": [
    {
     "name": "stdout",
     "output_type": "stream",
     "text": [
      "0      5.966667\n",
      "1      4.533333\n",
      "2      4.366667\n",
      "3      5.700000\n",
      "4      4.800000\n",
      "         ...   \n",
      "495    6.433333\n",
      "496    5.966667\n",
      "497    6.233333\n",
      "498    5.133333\n",
      "499    5.366667\n",
      "Length: 500, dtype: float64\n"
     ]
    }
   ],
   "source": [
    "df = samples.mean()\n",
    "print (df)"
   ]
  },
  {
   "cell_type": "code",
   "execution_count": 128,
   "metadata": {},
   "outputs": [
    {
     "name": "stdout",
     "output_type": "stream",
     "text": [
      "0      5.966667\n",
      "1      5.250000\n",
      "2      4.955556\n",
      "3      5.141667\n",
      "4      5.073333\n",
      "         ...   \n",
      "495    5.474597\n",
      "496    5.475587\n",
      "497    5.477108\n",
      "498    5.476420\n",
      "499    5.476200\n",
      "Length: 500, dtype: float64\n"
     ]
    }
   ],
   "source": [
    "exp_mean = df.expanding().mean()\n",
    "print(exp_mean)"
   ]
  },
  {
   "cell_type": "code",
   "execution_count": 129,
   "metadata": {},
   "outputs": [
    {
     "data": {
      "text/plain": [
       "<matplotlib.collections.LineCollection at 0x1c34d202070>"
      ]
     },
     "execution_count": 129,
     "metadata": {},
     "output_type": "execute_result"
    },
    {
     "data": {
      "image/png": "[encoded data removed]",
      "text/plain": [
       "<Figure size 1080x360 with 1 Axes>"
      ]
     },
     "metadata": {
      "needs_background": "light"
     },
     "output_type": "display_data"
    }
   ],
   "source": [
    "plt.plot(exp_mean)\n",
    "plt.hlines((population.mean()), 0, 500)"
   ]
  },
  {
   "cell_type": "code",
   "execution_count": null,
   "metadata": {},
   "outputs": [],
   "source": []
  },
  {
   "cell_type": "code",
   "execution_count": 82,
   "metadata": {},
   "outputs": [
    {
     "ename": "AttributeError",
     "evalue": "module 'pandas' has no attribute 'expanding_mean'",
     "output_type": "error",
     "traceback": [
      "\u001b[1;31m---------------------------------------------------------------------------\u001b[0m",
      "\u001b[1;31mAttributeError\u001b[0m                            Traceback (most recent call last)",
      "\u001b[1;32m<ipython-input-82-d287b8a66afb>\u001b[0m in \u001b[0;36m<module>\u001b[1;34m\u001b[0m\n\u001b[1;32m----> 1\u001b[1;33m df = pd.DataFrame({'estimated mean': pd.expanding_mean(samples.mean()),\n\u001b[0m\u001b[0;32m      2\u001b[0m                    'actual population mean': pd.Series(population.mean(), index=samples.columns)})\n\u001b[0;32m      3\u001b[0m \u001b[0mdf\u001b[0m\u001b[1;33m.\u001b[0m\u001b[0mplot\u001b[0m\u001b[1;33m(\u001b[0m\u001b[0mylim\u001b[0m\u001b[1;33m=\u001b[0m\u001b[1;33m(\u001b[0m\u001b[1;36m4.5\u001b[0m\u001b[1;33m,\u001b[0m \u001b[1;36m6.5\u001b[0m\u001b[1;33m)\u001b[0m\u001b[1;33m)\u001b[0m\u001b[1;33m\u001b[0m\u001b[1;33m\u001b[0m\u001b[0m\n",
      "\u001b[1;32m~\\Anaconda3_2020-07\\lib\\site-packages\\pandas\\__init__.py\u001b[0m in \u001b[0;36m__getattr__\u001b[1;34m(name)\u001b[0m\n\u001b[0;32m    256\u001b[0m             \u001b[1;32mreturn\u001b[0m \u001b[0m_SparseArray\u001b[0m\u001b[1;33m\u001b[0m\u001b[1;33m\u001b[0m\u001b[0m\n\u001b[0;32m    257\u001b[0m \u001b[1;33m\u001b[0m\u001b[0m\n\u001b[1;32m--> 258\u001b[1;33m         \u001b[1;32mraise\u001b[0m \u001b[0mAttributeError\u001b[0m\u001b[1;33m(\u001b[0m\u001b[1;34mf\"module 'pandas' has no attribute '{name}'\"\u001b[0m\u001b[1;33m)\u001b[0m\u001b[1;33m\u001b[0m\u001b[1;33m\u001b[0m\u001b[0m\n\u001b[0m\u001b[0;32m    259\u001b[0m \u001b[1;33m\u001b[0m\u001b[0m\n\u001b[0;32m    260\u001b[0m \u001b[1;33m\u001b[0m\u001b[0m\n",
      "\u001b[1;31mAttributeError\u001b[0m: module 'pandas' has no attribute 'expanding_mean'"
     ]
    }
   ],
   "source": [
    "df = pd.DataFrame({'estimated mean': pd.expanding_mean(samples.mean()),\n",
    "                   'actual population mean': pd.Series(population.mean(), index=samples.columns)})\n",
    "df.plot(ylim=(4.5, 6.5))"
   ]
  },
  {
   "cell_type": "code",
   "execution_count": null,
   "metadata": {},
   "outputs": [],
   "source": []
  },
  {
   "cell_type": "code",
   "execution_count": null,
   "metadata": {},
   "outputs": [],
   "source": []
  },
  {
   "cell_type": "code",
   "execution_count": null,
   "metadata": {},
   "outputs": [],
   "source": []
  },
  {
   "cell_type": "code",
   "execution_count": null,
   "metadata": {},
   "outputs": [],
   "source": []
  },
  {
   "cell_type": "code",
   "execution_count": null,
   "metadata": {},
   "outputs": [],
   "source": []
  },
  {
   "cell_type": "code",
   "execution_count": null,
   "metadata": {},
   "outputs": [],
   "source": [
    "dif = sample_sd_n/myarray_sd\n",
    "dif1 = sample_sd_n1/myarray_sd\n",
    "\n",
    "print(sample_sd_n1)\n",
    "print(sts.pstdev(sample))\n",
    "print(sts.stdev(sample))\n",
    "print(np.std(sample))\n",
    "print(np.std(sample, ddof=1))\n",
    "print(sample_sd_n2)\n",
    "print(dof)"
   ]
  },
  {
   "cell_type": "code",
   "execution_count": null,
   "metadata": {},
   "outputs": [],
   "source": []
  },
  {
   "cell_type": "code",
   "execution_count": 8,
   "metadata": {},
   "outputs": [
    {
     "ename": "NameError",
     "evalue": "name 'm_a' is not defined",
     "output_type": "error",
     "traceback": [
      "\u001b[1;31m---------------------------------------------------------------------------\u001b[0m",
      "\u001b[1;31mNameError\u001b[0m                                 Traceback (most recent call last)",
      "\u001b[1;32m<ipython-input-8-f6f3711da0a1>\u001b[0m in \u001b[0;36m<module>\u001b[1;34m\u001b[0m\n\u001b[0;32m     16\u001b[0m \u001b[1;33m\u001b[0m\u001b[0m\n\u001b[0;32m     17\u001b[0m \u001b[1;31m# We'll have plots of two different populations on one set of axes.\u001b[0m\u001b[1;33m\u001b[0m\u001b[1;33m\u001b[0m\u001b[1;33m\u001b[0m\u001b[0m\n\u001b[1;32m---> 18\u001b[1;33m \u001b[0my_a\u001b[0m \u001b[1;33m=\u001b[0m \u001b[0mss\u001b[0m\u001b[1;33m.\u001b[0m\u001b[0mnorm\u001b[0m\u001b[1;33m.\u001b[0m\u001b[0mpdf\u001b[0m\u001b[1;33m(\u001b[0m\u001b[0mx\u001b[0m\u001b[1;33m,\u001b[0m \u001b[0mm_a\u001b[0m\u001b[1;33m,\u001b[0m \u001b[0ms_a\u001b[0m\u001b[1;33m)\u001b[0m\u001b[1;33m\u001b[0m\u001b[1;33m\u001b[0m\u001b[0m\n\u001b[0m\u001b[0;32m     19\u001b[0m \u001b[0my_b\u001b[0m \u001b[1;33m=\u001b[0m \u001b[0mss\u001b[0m\u001b[1;33m.\u001b[0m\u001b[0mnorm\u001b[0m\u001b[1;33m.\u001b[0m\u001b[0mpdf\u001b[0m\u001b[1;33m(\u001b[0m\u001b[0mx\u001b[0m\u001b[1;33m,\u001b[0m \u001b[0mm_b\u001b[0m\u001b[1;33m,\u001b[0m \u001b[0ms_b\u001b[0m\u001b[1;33m)\u001b[0m\u001b[1;33m\u001b[0m\u001b[1;33m\u001b[0m\u001b[0m\n\u001b[0;32m     20\u001b[0m \u001b[1;33m\u001b[0m\u001b[0m\n",
      "\u001b[1;31mNameError\u001b[0m: name 'm_a' is not defined"
     ]
    }
   ],
   "source": [
    "# Efficient numerical arrays.\n",
    "import numpy as np\n",
    "# Data frames.\n",
    "import pandas as pd\n",
    "# Alternative statistics package.\n",
    "import statsmodels.stats.weightstats as stat\n",
    "# Mains statistics package.\n",
    "import scipy.stats as ss\n",
    "# Plotting.\n",
    "import matplotlib.pyplot as plt\n",
    "# Fancier plotting.\n",
    "import seaborn as sns\n",
    "\n",
    "# Let's create a plot with the following x values.\n",
    "x = np.linspace(-2.0, 4.0, 1000)\n",
    "\n",
    "# We'll have plots of two different populations on one set of axes.\n",
    "y_a = ss.norm.pdf(x, m_a, s_a)\n",
    "y_b = ss.norm.pdf(x, m_b, s_b)\n",
    "\n",
    "fig, ax = plt.subplots(figsize=(10,6))\n",
    "\n",
    "ax.plot(x, y_a)\n",
    "ax.plot(x, y_b)\n",
    "\n",
    "plt.show()"
   ]
  },
  {
   "cell_type": "code",
   "execution_count": null,
   "metadata": {},
   "outputs": [],
   "source": []
  },
  {
   "cell_type": "markdown",
   "metadata": {},
   "source": [
    "To create a sample we will be using Normal (Gaussian) distribution. \n",
    "The normal distributions occurs often in nature. For example, it describes the commonly occurring distribution of samples influenced by a large number of tiny, random disturbances, each with its own unique distribution. [20]\n",
    "\n",
    "random.normal() requires three parameters:\n",
    "    loc - (Mean) where the peak of the bell exists.\n",
    "    scale - (Standard Deviation) how flat the graph distribution should be.\n",
    "    size - The shape of the returned array.\n"
   ]
  },
  {
   "cell_type": "code",
   "execution_count": 2,
   "metadata": {},
   "outputs": [
    {
     "data": {
      "text/html": [
       "<div>\n",
       "<style scoped>\n",
       "    .dataframe tbody tr th:only-of-type {\n",
       "        vertical-align: middle;\n",
       "    }\n",
       "\n",
       "    .dataframe tbody tr th {\n",
       "        vertical-align: top;\n",
       "    }\n",
       "\n",
       "    .dataframe thead th {\n",
       "        text-align: right;\n",
       "    }\n",
       "</style>\n",
       "<table border=\"1\" class=\"dataframe\">\n",
       "  <thead>\n",
       "    <tr style=\"text-align: right;\">\n",
       "      <th></th>\n",
       "      <th>CreditScore</th>\n",
       "    </tr>\n",
       "  </thead>\n",
       "  <tbody>\n",
       "    <tr>\n",
       "      <th>0</th>\n",
       "      <td>619</td>\n",
       "    </tr>\n",
       "    <tr>\n",
       "      <th>1</th>\n",
       "      <td>608</td>\n",
       "    </tr>\n",
       "    <tr>\n",
       "      <th>2</th>\n",
       "      <td>502</td>\n",
       "    </tr>\n",
       "    <tr>\n",
       "      <th>3</th>\n",
       "      <td>699</td>\n",
       "    </tr>\n",
       "    <tr>\n",
       "      <th>4</th>\n",
       "      <td>850</td>\n",
       "    </tr>\n",
       "  </tbody>\n",
       "</table>\n",
       "</div>"
      ],
      "text/plain": [
       "   CreditScore\n",
       "0          619\n",
       "1          608\n",
       "2          502\n",
       "3          699\n",
       "4          850"
      ]
     },
     "execution_count": 2,
     "metadata": {},
     "output_type": "execute_result"
    }
   ],
   "source": [
    "import pandas as pd\n",
    "\n",
    "# Importing the tips dataset from the local file\n",
    "df = pd.read_csv(\"CreditScore.csv\")\n",
    "\n",
    "# view first 5 rows\n",
    "df.head()"
   ]
  },
  {
   "cell_type": "code",
   "execution_count": 4,
   "metadata": {},
   "outputs": [
    {
     "data": {
      "text/plain": [
       "CreditScore    96.648466\n",
       "dtype: float64"
      ]
     },
     "execution_count": 4,
     "metadata": {},
     "output_type": "execute_result"
    }
   ],
   "source": [
    "import numpy as np\n",
    "\n",
    "# Calculationg a Standard Deviation of the dataset\n",
    "np.std(df)"
   ]
  },
  {
   "cell_type": "code",
   "execution_count": 7,
   "metadata": {},
   "outputs": [
    {
     "name": "stderr",
     "output_type": "stream",
     "text": [
      "C:\\Users\\I304319\\Anaconda3_2020-07\\lib\\site-packages\\seaborn\\distributions.py:2551: FutureWarning: `distplot` is a deprecated function and will be removed in a future version. Please adapt your code to use either `displot` (a figure-level function with similar flexibility) or `histplot` (an axes-level function for histograms).\n",
      "  warnings.warn(msg, FutureWarning)\n"
     ]
    },
    {
     "data": {
      "image/png": "[encoded data removed]",
      "text/plain": [
       "<Figure size 432x288 with 1 Axes>"
      ]
     },
     "metadata": {
      "needs_background": "light"
     },
     "output_type": "display_data"
    }
   ],
   "source": [
    "from numpy import random\n",
    "import matplotlib.pyplot as plt\n",
    "import seaborn as sns\n",
    "\n",
    "# Parameters for two different lists of numbers.\n",
    "loc = 2.0\n",
    "scale = 0.5\n",
    "size = 100\n",
    "\n",
    "# Create a list of numbers based on bell-shaped probability curves.\n",
    "df = random.normal(loc, scale, size)\n",
    "\n",
    "#Visualization of the numbers in the array\n",
    "sns.distplot(df)\n",
    "\n",
    "plt.show()"
   ]
  },
  {
   "cell_type": "code",
   "execution_count": null,
   "metadata": {},
   "outputs": [],
   "source": []
  },
  {
   "cell_type": "code",
   "execution_count": null,
   "metadata": {},
   "outputs": [],
   "source": []
  },
  {
   "cell_type": "code",
   "execution_count": null,
   "metadata": {},
   "outputs": [],
   "source": []
  },
  {
   "cell_type": "code",
   "execution_count": null,
   "metadata": {},
   "outputs": [],
   "source": []
  },
  {
   "cell_type": "markdown",
   "metadata": {},
   "source": [
    "#### Reference List:\n",
    "\n",
    "[1]. Binary search algorythm. https://en.wikipedia.org/wiki/Binary_search_algorithm#:~:text=In%20computer%20science%2C%20binary%20search,middle%20element%20of%20the%20array. 8 Nov 2020\n",
    "[2]. Square Root using Binary Search: https://algotree.org/algorithms/binary_search/squareroot/ 26 Oct 2020\n",
    "[2a]. Finding the Square Root of a number using Binary Search (Java). https://stackoverflow.com/questions/61936060/finding-the-square-root-of-a-number-by-using-binary-search 26 Oct 2020\n",
    "\n",
    "[3]. Find square root of a number using Binary Search algorithm https://www.techiedelight.com/find-square-root-using-binary-search-algorithm/ 26 Oct 2020\n",
    "[4]. Wikipedia contributors, “Chi-squared test — Wikipedia, the free encyclopedia,”\n",
    "2020, [Online; accessed 1-November-2020]. [Online]. Available: https://en.wikipedia.\n",
    "org/w/index.php?title=Chi-squared test&oldid=983024096\n",
    "[5]. Decimal fixed point and floating point arithmetics https://docs.python.org/3/library/decimal.html\n",
    "\n",
    "[1]. How do I write a program for finding the square root of a number without using the sqrt function?. https://www.quora.com/How-do-I-write-a-program-for-finding-the-square-root-of-a-number-without-using-the-sqrt-function\n",
    "[2]. https://algotree.org/algorithms/binary_search/squareroot/\n",
    "[3]. https://codereview.stackexchange.com/questions/226340/compute-the-square-root-of-a-positive-integer-using-binary-search\n",
    "[4]. Java: https://stackoverflow.com/questions/61936060/finding-the-square-root-of-a-number-by-using-binary-search\n",
    "[5]. Python, Java and C: https://www.xspdf.com/resolution/54877450.html\n",
    "[6]. https://inginious.org/course/competitive-programming/binsearch-squareroot\n",
    "[7]. https://www.techiedelight.com/find-square-root-using-binary-search-algorithm/\n",
    "[8]. C: https://stackoverflow.com/questions/40849402/using-binary-search-to-find-the-square-root-of-a-number-in-c/40849680\n",
    "[9]. https://stackoverflow.com/questions/52176199/binary-search-for-square-root-2\n",
    "[10]. https://www.geeksforgeeks.org/find-square-root-number-upto-given-precision-using-binary-search/\n",
    "\n",
    "\n",
    "[10]. A Gentle Introduction to the Chi-Squared Test for Machine Learning. https://machinelearningmastery.com/chi-squared-test-for-machine-learning/ (8 Nov 2020)\n",
    "[11]. Running Ch-Square Tests with Die Roll Data in Python. https://towardsdatascience.com/running-chi-square-tests-in-python-with-die-roll-data-b9903817c51b 8 Nov 2020\n",
    "[12]. SciPy.org. Scipy.stats.ch2_contingency. https://docs.scipy.org/doc/scipy/reference/generated/scipy.stats.chi2_contingency.html 8 Nov 2020\n",
    "[13]. Chi-square test in Python. https://reneshbedre.github.io/blog/chisq.html#:~:text=cured%20and%20noncured)-,Chi%2Dsquare%20(%CF%872)%20Goodness%20of%20Fit%20test,on%20the%20known%20theoretical%20expectation. 8 Nov 2020\n",
    "[14]. A Gentle Introduction to the Chi-Squared Test for Machine Learning. https://machinelearningmastery.com/chi-squared-test-for-machine-learning/ (8 Nov 2020)\n",
    "[15]. SciPy.org. Scipy.stats.chi2. https://docs.scipy.org/doc/scipy/reference/generated/scipy.stats.chi2.html. 8 Nov 2020\n",
    "\n",
    "[20]. Numpy. https://numpy.org/doc/stable/reference/random/generated/numpy.random.normal.html 24 Nov 2020\n",
    "[21]. Population vs Sample Data. http://mathbitsnotebook.com/Algebra1/StatisticsData/STPopSample.html 24 Nov 2020\n",
    "[22]. Churn_Modelling.csv https://www.kaggle.com/barelydedicated/bank-customer-churn-modeling 24 Nov 2020\n",
    "[23]. How to use the STDEV.S Function in Excel. https://www.exceltip.com/statistical-formulas/how-to-use-stdev-s-function-in-excel.html 24 Nov 2020\n",
    "[24]. Computing Sample Variance: Why Divide by N - 1?. https://mortada.net/computing-sample-variance-why-divide-by-n-1.html 24 Nov 2020\n",
    "\n",
    "\n",
    "[11]. LaTex. https://en.wikibooks.org/wiki/LaTeX/Mathematics. 26 Oct 2020\n",
    "[12]. Markdown in Jupyter Notebook. https://www.datacamp.com/community/tutorials/markdown-in-jupyter-notebook?utm_source=adwords_ppc&utm_campaignid=898687156&utm_adgroupid=48947256715&utm_device=c&utm_keyword=&utm_matchtype=b&utm_network=g&utm_adpostion=&utm_creative=332602034349&utm_targetid=aud-392016246653:dsa-429603003980&utm_loc_interest_ms=&utm_loc_physical_ms=20489&gclid=CjwKCAjwoc_8BRAcEiwAzJevtX4RINIUMp_KK-_GyNV1X-ptLEtPDfvJ9VBN2BUdNU4cR-XXIoXPBxoCNYwQAvD_BwE 26 Oct 2020"
   ]
  },
  {
   "cell_type": "code",
   "execution_count": null,
   "metadata": {},
   "outputs": [],
   "source": []
  },
  {
   "cell_type": "code",
   "execution_count": null,
   "metadata": {},
   "outputs": [],
   "source": []
  }
 ],
 "metadata": {
  "kernelspec": {
   "display_name": "Python 3",
   "language": "python",
   "name": "python3"
  },
  "language_info": {
   "codemirror_mode": {
    "name": "ipython",
    "version": 3
   },
   "file_extension": ".py",
   "mimetype": "text/x-python",
   "name": "python",
   "nbconvert_exporter": "python",
   "pygments_lexer": "ipython3",
   "version": "3.8.3"
  }
 },
 "nbformat": 4,
 "nbformat_minor": 4
}
