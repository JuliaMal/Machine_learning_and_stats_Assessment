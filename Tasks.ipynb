{
 "cells": [
  {
   "cell_type": "markdown",
   "metadata": {},
   "source": [
    "# Task #1\n",
    "***"
   ]
  },
  {
   "cell_type": "markdown",
   "metadata": {},
   "source": [
    "Write a Python function called `sqrt2`that calculates and prints to the screen the square root of 2 to 100 decimal places.\n",
    "***"
   ]
  },
  {
   "cell_type": "markdown",
   "metadata": {},
   "source": [
    "### Solution for the Task #1"
   ]
  },
  {
   "cell_type": "markdown",
   "metadata": {},
   "source": [
    "During the lecture it was introduced the Newton's method to calculate $\\sqrt{2}$ without using any module from the standard Python library or otherwise. The code below was taken from the lecture:"
   ]
  },
  {
   "cell_type": "code",
   "execution_count": 1,
   "metadata": {},
   "outputs": [],
   "source": [
    "# A function to calculate the square root of a number x.\n",
    "def sqrt():\n",
    "    \"\"\"\n",
    "    A function to calculate the square root of a number x\n",
    "    \"\"\"\n",
    "    # Initial guess for the square root z\n",
    "    x = 2\n",
    "    z = x / 2\n",
    "    # Loop until we're happy with the accuracy\n",
    "    while abs(x - (z * z)) > 0.000001:\n",
    "        # Calculate a better guess for the square root.\n",
    "        z -= (z*z - x) / (2*z)\n",
    "    # Return the (approximate) square root of x.   \n",
    "    return z"
   ]
  },
  {
   "cell_type": "code",
   "execution_count": 2,
   "metadata": {},
   "outputs": [
    {
     "data": {
      "text/plain": [
       "1.4142135623746899"
      ]
     },
     "execution_count": 2,
     "metadata": {},
     "output_type": "execute_result"
    }
   ],
   "source": [
    "sqrt()"
   ]
  },
  {
   "cell_type": "markdown",
   "metadata": {},
   "source": [
    "For this assessment I've choosen to show how to calculate $\\sqrt{2}$ using a different method - **Binary Search**."
   ]
  },
  {
   "cell_type": "markdown",
   "metadata": {},
   "source": [
    "### CALCULATION OF $\\sqrt{2}$ USING BINARY SEARCH \n",
    "\n",
    "In computer science, **Binary Search**, also known as half-interval search,[1] logarithmic search,[2] or binary chop,[3] is a search algorithm that finds the position of a target value within a sorted array. [1]\n",
    "\n",
    "It compares the middle number of the array with the searched value. If the middle number equals the searched value, the position of the middle number is returned. If the middle number is bigger, the left portion of the array is searched using the same logic (binary search), else the right portion of the array is searched using binary search. [2]."
   ]
  },
  {
   "cell_type": "markdown",
   "metadata": {},
   "source": [
    "To find a square root of the value 2, we are going to serch for a number that falls in the range between lowest boundary = 0 and highest boundary = 2."
   ]
  },
  {
   "cell_type": "code",
   "execution_count": 8,
   "metadata": {},
   "outputs": [
    {
     "name": "stdout",
     "output_type": "stream",
     "text": [
      "1.414213562373095048801688724209698078569671875376948073176679737990732478462107038850387534327641573\n"
     ]
    }
   ],
   "source": [
    "# import decimal module \n",
    "# as the precision using the floating point numbers is limited. A Python float have about 16 decimals of precision. Hawever,\n",
    "from decimal import *\n",
    "#as per Task#1, the answer has to have 100 decimal places, therefore the precision is equal 100 [4].\n",
    "getcontext().prec = 100\n",
    "\n",
    "def sqrt2():\n",
    "    \"\"\"\n",
    "    A function to calculate the square root of a number 2\n",
    "    \"\"\"\n",
    "    # lowest boundary value is equal 0, and the highest is equal 2. The square root of 2 should be between these two values.\n",
    "    num = Decimal(2)\n",
    "    low = Decimal(0)\n",
    "    high = num\n",
    "    \n",
    "    # Our initial guess value will be the middle value between highest & lowest boundaries.\n",
    "    guess = (high - low) / 2\n",
    "    \n",
    "    # Looping until the guess value neither equal low nor equal high values:\n",
    "    while guess != low and guess != high:\n",
    "        # calculating square of the guess value\n",
    "        sqr = guess * guess\n",
    "        \n",
    "        # if square root of the guessed number equal the initial num, break the loop\n",
    "        if sqr == num:\n",
    "            break\n",
    "        # otherwise if sqrt is less than our number 2 the low is getting a new value, which is equal guess\n",
    "        elif(sqr < num):\n",
    "            low = guess\n",
    "        # otherwise the high is getting a new value, which is equal guess\n",
    "        else:\n",
    "            high = guess\n",
    "        # guess is getting a new middle value (the formula: low + (high - low) / 2 is used instead of (high - low) / 2 , to help avoid overflow of 32-big integer)\n",
    "        guess = low + (high - low) / 2\n",
    "    \n",
    "    # if guess is equal one of value of the boundaries\n",
    "    else:\n",
    "        # checking if the difference between squared low boundary minus initial number 2 is less than the difference between squared high boundary minus 2\n",
    "        if abs(low * low - num) < abs(high * high - num):\n",
    "            # if true, low is getting a new value, which is equal guess\n",
    "            guess = low\n",
    "        else:\n",
    "            # otherwise high is getting a new value\n",
    "            guess = high\n",
    "    # returning the answer\n",
    "    return guess\n",
    "\n",
    "# printing the answer to 100 decimal places:\n",
    "print(sqrt2())"
   ]
  },
  {
   "cell_type": "markdown",
   "metadata": {},
   "source": []
  },
  {
   "cell_type": "markdown",
   "metadata": {},
   "source": [
    "# Task #2\n",
    "***"
   ]
  },
  {
   "cell_type": "markdown",
   "metadata": {},
   "source": [
    "The Chi-squared test for independence is a statistical hypothesis test like a t-test. It is used to analyse whether two categorical variables\n",
    "are independent. The Wikipedia article gives the table below as an example [4], stating the Chi-squared value based on it is approximately 24.6. Use `scipy.stats`\n",
    "to verify this value and calculate the associated p value.\n",
    "\n",
    "|  | A | B | C | D | Total |\n",
    "| --- | --- | --- | --- | --- | --- |\n",
    "| White collar | 90 | 60 | 104 | 95 | 349 |\n",
    "| Blue collar | 30 | 50 | 51 | 20 | 151 |\n",
    "| No collar | 30 | 40 | 45 | 35 | 150 |\n",
    "| Total collar | 150 | 150 | 200 | 150 | 650 |\n",
    "\n",
    "***"
   ]
  },
  {
   "cell_type": "markdown",
   "metadata": {},
   "source": [
    "The **Pearson’s Chi-Squared test**, or just **Chi-Squared test** for short, is named for Karl Pearson, although there are variations on the test.\n",
    "\n",
    "The Chi-Squared test is a statistical hypothesis test that assumes (the null hypothesis) that the observed frequencies for a categorical variable match the expected frequencies for the categorical variable. The test calculates a statistic that has a chi-squared distribution, named for the Greek capital letter Chi $\\chi$ pronounced “ki” as in kite.[10].\n",
    "\n",
    "The result of the test is a test statistic that has a chi-squared distribution and can be interpreted to reject or fail to reject the assumption or null hypothesis that the observed and expected frequencies are the same.\n",
    "\n",
    "We can interpret the test statistic in the context of the chi-squared distribution with the requisite number of degress of freedom as follows:\n",
    "\n",
    "* If **Statistic >= Critical Value**: significant result, reject null hypothesis (H0), dependent.\n",
    "* If **Statistic < Critical Value**: not significant result, fail to reject null hypothesis (H0), independent.\n",
    "\n",
    "In terms of a p-value and a chosen significance level (alpha), the test can be interpreted as follows:\n",
    "\n",
    "* If **p-value <= ignificance level**: significant result, reject null hypothesis (H0), dependent.\n",
    "* If **p-value > ignificance level**: not significant result, fail to reject null hypothesis (H0), independent."
   ]
  },
  {
   "cell_type": "markdown",
   "metadata": {},
   "source": [
    "### Solution for the Task #1"
   ]
  },
  {
   "cell_type": "markdown",
   "metadata": {},
   "source": [
    "Suppose there is a city of 1,000,000 residents with four neighborhoods: A, B, C, and D. A random sample of 650 residents of the city is taken and their occupation is recorded as \"white collar\", \"blue collar\", or \"no collar\". [4].\n",
    "\n",
    "The null hypothesis is that each person's neighborhood of residence is independent of the person's occupational classification. \n",
    "\n",
    "The data are tabulated above in the Task #2 section."
   ]
  },
  {
   "cell_type": "code",
   "execution_count": 23,
   "metadata": {},
   "outputs": [
    {
     "name": "stdout",
     "output_type": "stream",
     "text": [
      "Initial table:\n",
      "[[ 90  60 104  95]\n",
      " [ 30  50  51  20]\n",
      " [ 30  40  45  35]]\n",
      "\n",
      "p-value =  0.00041\n",
      "Degrees of freedom =  6\n",
      "Chi-squared statistic =  24.6\n",
      "Critical value =  12.6\n"
     ]
    }
   ],
   "source": [
    "import numpy as np\n",
    "from scipy import stats\n",
    "\n",
    "# Input the data.\n",
    "white = [90, 60, 104, 95]\n",
    "blue = [30, 50, 51, 20]\n",
    "no = [30,  40,  45, 35]\n",
    "\n",
    "# creating an array from the data above\n",
    "table = np.array([white, blue, no])\n",
    "\n",
    "# runing the Chi-squared test using scipy.stats library\n",
    "# Chi2_st is chi-square statistic\n",
    "# p_val is a p-value\n",
    "# dof = degrees of freedom (is calculated by taking the number of rows minus one \n",
    "# and multiplying this result by the number of columns minus one)\n",
    "# con_tbl is a contingency table with expected values based on all of our samples.\n",
    "chi2_st, p_val, dof, con_tbl = stats.chi2_contingency(table)\n",
    "\n",
    "# probability\n",
    "prob = 0.95\n",
    "\n",
    "#calvulating the critical value\n",
    "critical = chi2.ppf(prob, dof)\n",
    "\n",
    "#Output\n",
    "print(\"Initial table:\")\n",
    "print(table)\n",
    "print(\"\")\n",
    "print(\"p-value = \",format(p_val, '.5f'))\n",
    "print(\"Degrees of freedom = \",dof)\n",
    "print(\"Chi-squared statistic = \", format(chi2_st, '.1f'))\n",
    "print(\"Critical value = \", format(critical, '.1f'))"
   ]
  },
  {
   "cell_type": "markdown",
   "metadata": {},
   "source": [
    "P-value (0.00041) is less than the significance level (0.05), therefore it's statistically significant. This means there’s only about a 0.04% chance that we’d see this result if the person's neighborhood of residence were truly random.\n",
    "\n",
    "The Chi-squared statistics is greater than the Critical value, therefore based on this we can reject the null hypothesis (H0), as the result is significant."
   ]
  },
  {
   "cell_type": "code",
   "execution_count": 24,
   "metadata": {},
   "outputs": [
    {
     "name": "stdout",
     "output_type": "stream",
     "text": [
      "Contingency table\n",
      "[[ 80.53846154  80.53846154 107.38461538  80.53846154]\n",
      " [ 34.84615385  34.84615385  46.46153846  34.84615385]\n",
      " [ 34.61538462  34.61538462  46.15384615  34.61538462]]\n"
     ]
    }
   ],
   "source": [
    "print(\"Contingency table\")\n",
    "print(con_tbl)"
   ]
  },
  {
   "cell_type": "markdown",
   "metadata": {},
   "source": [
    "The contingency table produced values that are, in some cases, quite different comparing to the initial dataset. This is because we are using too small of a sample to accurate measure the population."
   ]
  },
  {
   "cell_type": "markdown",
   "metadata": {},
   "source": [
    "# Task #3\n",
    "***"
   ]
  },
  {
   "cell_type": "markdown",
   "metadata": {},
   "source": [
    "The standard deviation of an array of numbers x is calculated using numpy as `np.sqrt(np.sum((x - np.mean(x))**2)/len(x))`. However, Microsoft Excel has two different versions of the standard deviation calculation, `STDEV.P` and `STDEV.S`. The `STDEV.P` function performs the above calculation but in the `STDEV.S` calculation the division is by `len(x)-1` rather than `len(x)`. Research these Excel functions, writing a note in a Markdown cell about the difference between them. Then use `numpy` to perform a simulation demonstrating that the `STDEV.S` calculation is a better estimate for the standard deviation of a population when performed on a sample. \n",
    "\n",
    "*Note that part of this task is to figure out the terminology in the previous sentence."
   ]
  },
  {
   "cell_type": "markdown",
   "metadata": {},
   "source": [
    "#### Reference List:\n",
    "\n",
    "[1]. Binary search algorythm. https://en.wikipedia.org/wiki/Binary_search_algorithm#:~:text=In%20computer%20science%2C%20binary%20search,middle%20element%20of%20the%20array. 8 Nov 2020\n",
    "[2]. Square Root using Binary Search: https://algotree.org/algorithms/binary_search/squareroot/ 26 Oct 2020\n",
    "[2a]. Finding the Square Root of a number using Binary Search (Java). https://stackoverflow.com/questions/61936060/finding-the-square-root-of-a-number-by-using-binary-search 26 Oct 2020\n",
    "\n",
    "[3]. Find square root of a number using Binary Search algorithm https://www.techiedelight.com/find-square-root-using-binary-search-algorithm/ 26 Oct 2020\n",
    "[4]. Wikipedia contributors, “Chi-squared test — Wikipedia, the free encyclopedia,”\n",
    "2020, [Online; accessed 1-November-2020]. [Online]. Available: https://en.wikipedia.\n",
    "org/w/index.php?title=Chi-squared test&oldid=983024096\n",
    "[5]. Decimal fixed point and floating point arithmetics https://docs.python.org/3/library/decimal.html\n",
    "\n",
    "[1]. How do I write a program for finding the square root of a number without using the sqrt function?. https://www.quora.com/How-do-I-write-a-program-for-finding-the-square-root-of-a-number-without-using-the-sqrt-function\n",
    "[2]. https://algotree.org/algorithms/binary_search/squareroot/\n",
    "[3]. https://codereview.stackexchange.com/questions/226340/compute-the-square-root-of-a-positive-integer-using-binary-search\n",
    "[4]. Java: https://stackoverflow.com/questions/61936060/finding-the-square-root-of-a-number-by-using-binary-search\n",
    "[5]. Python, Java and C: https://www.xspdf.com/resolution/54877450.html\n",
    "[6]. https://inginious.org/course/competitive-programming/binsearch-squareroot\n",
    "[7]. https://www.techiedelight.com/find-square-root-using-binary-search-algorithm/\n",
    "[8]. C: https://stackoverflow.com/questions/40849402/using-binary-search-to-find-the-square-root-of-a-number-in-c/40849680\n",
    "[9]. https://stackoverflow.com/questions/52176199/binary-search-for-square-root-2\n",
    "[10]. https://www.geeksforgeeks.org/find-square-root-number-upto-given-precision-using-binary-search/\n",
    "\n",
    "\n",
    "[10]. A Gentle Introduction to the Chi-Squared Test for Machine Learning. https://machinelearningmastery.com/chi-squared-test-for-machine-learning/ (8 Nov 2020)\n",
    "[11]. Running Ch-Square Tests with Die Roll Data in Python. https://towardsdatascience.com/running-chi-square-tests-in-python-with-die-roll-data-b9903817c51b 8 Nov 2020\n",
    "[12]. SciPy.org. Scipy.stats.ch2_contingency. https://docs.scipy.org/doc/scipy/reference/generated/scipy.stats.chi2_contingency.html 8 Nov 2020\n",
    "[13]. Chi-square test in Python. https://reneshbedre.github.io/blog/chisq.html#:~:text=cured%20and%20noncured)-,Chi%2Dsquare%20(%CF%872)%20Goodness%20of%20Fit%20test,on%20the%20known%20theoretical%20expectation. 8 Nov 2020\n",
    "[14]. A Gentle Introduction to the Chi-Squared Test for Machine Learning. https://machinelearningmastery.com/chi-squared-test-for-machine-learning/ (8 Nov 2020)\n",
    "[15]. SciPy.org. Scipy.stats.chi2. https://docs.scipy.org/doc/scipy/reference/generated/scipy.stats.chi2.html. 8 Nov 2020\n",
    "\n",
    "\n",
    "[11]. LaTex. https://en.wikibooks.org/wiki/LaTeX/Mathematics. 26 Oct 2020\n",
    "[12]. Markdown in Jupyter Notebook. https://www.datacamp.com/community/tutorials/markdown-in-jupyter-notebook?utm_source=adwords_ppc&utm_campaignid=898687156&utm_adgroupid=48947256715&utm_device=c&utm_keyword=&utm_matchtype=b&utm_network=g&utm_adpostion=&utm_creative=332602034349&utm_targetid=aud-392016246653:dsa-429603003980&utm_loc_interest_ms=&utm_loc_physical_ms=20489&gclid=CjwKCAjwoc_8BRAcEiwAzJevtX4RINIUMp_KK-_GyNV1X-ptLEtPDfvJ9VBN2BUdNU4cR-XXIoXPBxoCNYwQAvD_BwE 26 Oct 2020"
   ]
  },
  {
   "cell_type": "code",
   "execution_count": null,
   "metadata": {},
   "outputs": [],
   "source": []
  },
  {
   "cell_type": "code",
   "execution_count": null,
   "metadata": {},
   "outputs": [],
   "source": []
  }
 ],
 "metadata": {
  "kernelspec": {
   "display_name": "Python 3",
   "language": "python",
   "name": "python3"
  },
  "language_info": {
   "codemirror_mode": {
    "name": "ipython",
    "version": 3
   },
   "file_extension": ".py",
   "mimetype": "text/x-python",
   "name": "python",
   "nbconvert_exporter": "python",
   "pygments_lexer": "ipython3",
   "version": "3.8.3"
  }
 },
 "nbformat": 4,
 "nbformat_minor": 4
}
