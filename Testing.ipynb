{
 "cells": [
  {
   "cell_type": "markdown",
   "metadata": {},
   "source": [
    "# Task #1\n",
    "***"
   ]
  },
  {
   "cell_type": "markdown",
   "metadata": {},
   "source": [
    "Write a Python function called `sqrt2`that calculates and prints to the screen the square root of 2 to 100 decimal places.\n",
    "***"
   ]
  },
  {
   "cell_type": "markdown",
   "metadata": {},
   "source": [
    "### Solution for the Task #1"
   ]
  },
  {
   "cell_type": "code",
   "execution_count": null,
   "metadata": {},
   "outputs": [],
   "source": []
  },
  {
   "cell_type": "code",
   "execution_count": null,
   "metadata": {},
   "outputs": [],
   "source": []
  },
  {
   "cell_type": "markdown",
   "metadata": {},
   "source": [
    "Newton's method:"
   ]
  },
  {
   "cell_type": "code",
   "execution_count": 1,
   "metadata": {},
   "outputs": [],
   "source": [
    "# A function to calculate the square root of a number x.\n",
    "def sqrt():\n",
    "    \"\"\"\n",
    "    A function to calculate the square root of a number x\n",
    "    \"\"\"\n",
    "    # Initial guess for the square root z\n",
    "    x = 2\n",
    "    z = x / 2\n",
    "    # Loop until we're happy with the accuracy\n",
    "    while abs(x - (z * z)) > 0.000001:\n",
    "        # Calculate a better guess for the square root.\n",
    "        z -= (z*z - x) / (2*z)\n",
    "    # Return the (approximate) square root of x.   \n",
    "    return z"
   ]
  },
  {
   "cell_type": "code",
   "execution_count": 2,
   "metadata": {},
   "outputs": [
    {
     "data": {
      "text/plain": [
       "1.4142135623746899"
      ]
     },
     "execution_count": 2,
     "metadata": {},
     "output_type": "execute_result"
    }
   ],
   "source": [
    "sqrt()"
   ]
  },
  {
   "cell_type": "markdown",
   "metadata": {},
   "source": [
    "### CALCULATION OF $\\sqrt{2}$ USING BINARY SEARCH \n",
    "\n",
    "**Binary Search** looks for a value in a sorted array. It compares the middle number of the array with the searched value. If the middle number equals the searched value, the position of the middle number is returned. If the middle number is bigger, the left portion of the array is searched using the same logic (binary search), else the right portion of the array is searched using binary search. [1]."
   ]
  },
  {
   "cell_type": "markdown",
   "metadata": {},
   "source": [
    "To find a square root of the value 2, we are going to serch for a number that falls in the range between lowest boundary = 0 and highest boundary = 2."
   ]
  },
  {
   "cell_type": "code",
   "execution_count": null,
   "metadata": {},
   "outputs": [],
   "source": []
  },
  {
   "cell_type": "code",
   "execution_count": 14,
   "metadata": {},
   "outputs": [
    {
     "name": "stdout",
     "output_type": "stream",
     "text": [
      "1.4142135623696958646178245544433593750000000000000000000000000000000000000000000000000000000000000000\n"
     ]
    }
   ],
   "source": [
    "def sqrt2():\n",
    "    \"\"\"\n",
    "    A function to calculate the square root of a number 2\n",
    "    \"\"\"\n",
    "    \n",
    "    # lowest boundary value is equal 0, and the highest is equal 2. The square root of 2 should be between these two values.\n",
    "    n = 2\n",
    "    low = 0\n",
    "    high = n\n",
    "\n",
    "    # Loop until we're happy with the accuracy that the difference between high and low is higher than accuracy\n",
    "    while (high - low) > 0.00000000001:\n",
    "        # Calculating the middle number:\n",
    "        mid = low + (high - low)/2\n",
    "        # if the difference between squared middle number and our initial number 2 is higher than the accuracy\n",
    "        if (mid*mid - n > 0.00000000001):\n",
    "            # then high is getting a new value which is equal middle\n",
    "            high = mid\n",
    "        # otherwise when difference between squared middle value and our initial value of 2 is less or equal then our accuracy\n",
    "        else:\n",
    "            #then low is getting a new value wich is equal mid\n",
    "            low = mid\n",
    "    # Return the (approximate) square root of 2.\n",
    "    return low\n",
    "\n",
    "# printing the answer to 100 decimal places:\n",
    "print (\"{0:.100f}\".format(sqrt2()))"
   ]
  },
  {
   "cell_type": "code",
   "execution_count": null,
   "metadata": {},
   "outputs": [],
   "source": []
  },
  {
   "cell_type": "code",
   "execution_count": null,
   "metadata": {},
   "outputs": [],
   "source": [
    "# Normal Python floats\n",
    "a = 0.000000000000000000001\n",
    "b = 1 + 2*a\n",
    "print(b)  # Prints 1.0\n",
    "\n",
    "# Using Decimal\n",
    "import decimal\n",
    "decimal.getcontext().prec = 100  # Set the precision\n",
    "a = decimal.Decimal('0.000000000000000000001')\n",
    "b = 1 + 2*a\n",
    "print(b)  # Prints 1.000000000000000000002"
   ]
  },
  {
   "cell_type": "code",
   "execution_count": null,
   "metadata": {},
   "outputs": [],
   "source": []
  },
  {
   "cell_type": "markdown",
   "metadata": {},
   "source": [
    "# Trying different ways of calculation:\n"
   ]
  },
  {
   "cell_type": "code",
   "execution_count": null,
   "metadata": {},
   "outputs": [],
   "source": [
    "# working\n",
    "num = 2\n",
    "low = 1\n",
    "high = num\n",
    "i = 0\n",
    "while abs((i**2) - num) > 1e-15:  # Note\n",
    "    i = low + (high - low) / 2\n",
    "    sqrt = i * i\n",
    "\n",
    "    if abs(sqrt - num) < 1e-15:  # Note\n",
    "        print(i)\n",
    "    elif(sqrt < num):\n",
    "        low = i\n",
    "    else:\n",
    "        high = i\n",
    "print(i)"
   ]
  },
  {
   "cell_type": "code",
   "execution_count": 5,
   "metadata": {},
   "outputs": [
    {
     "name": "stdout",
     "output_type": "stream",
     "text": [
      "52 : 2.0000000000000004\n",
      "1.4142135623730951 ~= 1.4142135623730951\n"
     ]
    }
   ],
   "source": [
    "num = 2\n",
    "low = 1\n",
    "high = num\n",
    "guess = low + (high - low) / 2\n",
    "count = 0\n",
    "while guess != low and guess != high:\n",
    "    sqr = guess * guess\n",
    "\n",
    "    if sqr == num:\n",
    "        break\n",
    "    elif(sqr < num):\n",
    "        low = guess\n",
    "    else:\n",
    "        high = guess\n",
    "\n",
    "    guess = low + (high - low) / 2\n",
    "    count += 1\n",
    "else:\n",
    "    if abs(low * low - num) < abs(high * high - num):\n",
    "        guess = low\n",
    "    else:\n",
    "        guess = high\n",
    "\n",
    "print(count, ':', sqr)\n",
    "print(num ** (.5), '~=', guess)"
   ]
  },
  {
   "cell_type": "code",
   "execution_count": 3,
   "metadata": {},
   "outputs": [
    {
     "name": "stdout",
     "output_type": "stream",
     "text": [
      "1.4142135623730945\n",
      "1.41421\n"
     ]
    }
   ],
   "source": [
    "# Python3 implementation to find \n",
    "# square root of given number \n",
    "# upto given precision using \n",
    "# binary search. \n",
    "  \n",
    "# Function to find square root of \n",
    "# given number upto given precision \n",
    "def squareRoot(number, precision): \n",
    "  \n",
    "    start = 0\n",
    "    end,ans = number,1\n",
    "  \n",
    "    # For computing integral part \n",
    "    # of square root of number \n",
    "    while (start <= end) : \n",
    "        mid = int((start + end) / 2) \n",
    "          \n",
    "        if (mid * mid == number) : \n",
    "            ans = mid \n",
    "            break\n",
    "          \n",
    "        # incrementing start if integral \n",
    "        # part lies on right side of the mid \n",
    "        if (mid * mid < number) : \n",
    "            start = mid + 1\n",
    "              \n",
    "          \n",
    "        # decrementing end if integral part \n",
    "        # lies on the left side of the mid \n",
    "        else : \n",
    "            end = mid - 1\n",
    "          \n",
    "    # For computing the fractional part \n",
    "    # of square root upto given precision \n",
    "    increment = 0.1\n",
    "    for i in range(0, precision):  \n",
    "        while (ans * ans <= number): \n",
    "            ans += increment \n",
    "          \n",
    "        # loop terminates when ans * ans > number \n",
    "        ans = ans - increment \n",
    "        increment = increment / 10\n",
    "      \n",
    "    return ans \n",
    "  \n",
    "# Driver code \n",
    "print(round(squareRoot(2, 15), 100)) \n",
    "print(round(squareRoot(2, 5), 6)) \n",
    "      \n",
    "# This code is contributed by Smitha Dinesh Semwal.  \n"
   ]
  },
  {
   "cell_type": "code",
   "execution_count": 6,
   "metadata": {},
   "outputs": [
    {
     "name": "stdout",
     "output_type": "stream",
     "text": [
      "1\n"
     ]
    }
   ],
   "source": [
    "def sqrt2():\n",
    "    n = 2\n",
    "    low = 0\n",
    "    high = n\n",
    "    ans = 1\n",
    "\n",
    "    while (low <= high):\n",
    "        mid = (low + high)/2\n",
    "        \n",
    "        if (mid * mid == n):\n",
    "            ans = mid\n",
    "            break\n",
    "            \n",
    "        if (mid*mid < n):\n",
    "            low = mid + 1\n",
    "        else:\n",
    "            high = mid - 1\n",
    "    return ans\n",
    "\n",
    "print(sqrt2())"
   ]
  },
  {
   "cell_type": "code",
   "execution_count": null,
   "metadata": {},
   "outputs": [],
   "source": []
  },
  {
   "cell_type": "code",
   "execution_count": null,
   "metadata": {},
   "outputs": [],
   "source": [
    "def squareRoot(number): \n",
    "  \n",
    "    start = 0\n",
    "    end,ans = number,1\n",
    "  \n",
    "    # For computing integral part \n",
    "    # of square root of number \n",
    "    while (start <= end) : \n",
    "        mid = int((start + end) / 2) \n",
    "          \n",
    "        if (mid * mid == number) : \n",
    "            ans = mid \n",
    "            break\n",
    "          \n",
    "        # incrementing start if integral \n",
    "        # part lies on right side of the mid \n",
    "        if (mid * mid < number) : \n",
    "            start = mid + 1\n",
    "              \n",
    "          \n",
    "        # decrementing end if integral part \n",
    "        # lies on the left side of the mid \n",
    "        else : \n",
    "            end = mid - 1\n",
    "          \n",
    "    # For computing the fractional part \n",
    "    # of square root upto given precision \n",
    "    increment = 0.1\n",
    "    for i in range(0, 15):  \n",
    "        while (ans * ans <= number): \n",
    "            ans += increment \n",
    "          \n",
    "        # loop terminates when ans * ans > number \n",
    "        ans = ans - increment \n",
    "        increment = increment / 10\n",
    "      \n",
    "    return ans \n",
    "  \n",
    "# Driver code \n",
    "print(round(squareRoot(2), 100)) \n",
    "print(round(squareRoot(2), 6)) \n",
    "      \n",
    "# This code is contributed by Smitha Dinesh Semwal. \n"
   ]
  },
  {
   "cell_type": "markdown",
   "metadata": {},
   "source": [
    "#### Reference List:\n",
    "[1]. Square Root using Binary Search: https://algotree.org/algorithms/binary_search/squareroot/ 26 Oct 2020\n",
    "[2]. Finding the Square Root of a number using Binary Search (Java). https://stackoverflow.com/questions/61936060/finding-the-square-root-of-a-number-by-using-binary-search 26 Oct 2020\n",
    "[3]. Find square root of a number using Binary Search algorithm https://www.techiedelight.com/find-square-root-using-binary-search-algorithm/ 26 Oct 2020\n",
    "\n",
    "[1]. How do I write a program for finding the square root of a number without using the sqrt function?. https://www.quora.com/How-do-I-write-a-program-for-finding-the-square-root-of-a-number-without-using-the-sqrt-function\n",
    "[2]. https://algotree.org/algorithms/binary_search/squareroot/\n",
    "[3]. https://codereview.stackexchange.com/questions/226340/compute-the-square-root-of-a-positive-integer-using-binary-search\n",
    "[4]. Java: https://stackoverflow.com/questions/61936060/finding-the-square-root-of-a-number-by-using-binary-search\n",
    "[5]. Python, Java and C: https://www.xspdf.com/resolution/54877450.html\n",
    "[6]. https://inginious.org/course/competitive-programming/binsearch-squareroot\n",
    "[7]. https://www.techiedelight.com/find-square-root-using-binary-search-algorithm/\n",
    "[8]. C: https://stackoverflow.com/questions/40849402/using-binary-search-to-find-the-square-root-of-a-number-in-c/40849680\n",
    "[9]. https://stackoverflow.com/questions/52176199/binary-search-for-square-root-2\n",
    "[10]. https://www.geeksforgeeks.org/find-square-root-number-upto-given-precision-using-binary-search/\n",
    "\n",
    "[11]. LaTex. https://en.wikibooks.org/wiki/LaTeX/Mathematics. 26 Oct 2020\n",
    "[12]. Markdown in Jupyter Notebook. https://www.datacamp.com/community/tutorials/markdown-in-jupyter-notebook?utm_source=adwords_ppc&utm_campaignid=898687156&utm_adgroupid=48947256715&utm_device=c&utm_keyword=&utm_matchtype=b&utm_network=g&utm_adpostion=&utm_creative=332602034349&utm_targetid=aud-392016246653:dsa-429603003980&utm_loc_interest_ms=&utm_loc_physical_ms=20489&gclid=CjwKCAjwoc_8BRAcEiwAzJevtX4RINIUMp_KK-_GyNV1X-ptLEtPDfvJ9VBN2BUdNU4cR-XXIoXPBxoCNYwQAvD_BwE 26 Oct 2020"
   ]
  },
  {
   "cell_type": "code",
   "execution_count": null,
   "metadata": {},
   "outputs": [],
   "source": []
  }
 ],
 "metadata": {
  "kernelspec": {
   "display_name": "Python 3",
   "language": "python",
   "name": "python3"
  },
  "language_info": {
   "codemirror_mode": {
    "name": "ipython",
    "version": 3
   },
   "file_extension": ".py",
   "mimetype": "text/x-python",
   "name": "python",
   "nbconvert_exporter": "python",
   "pygments_lexer": "ipython3",
   "version": "3.8.3"
  }
 },
 "nbformat": 4,
 "nbformat_minor": 4
}
