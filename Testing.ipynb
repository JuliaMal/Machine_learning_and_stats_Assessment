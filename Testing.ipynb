{
 "cells": [
  {
   "cell_type": "markdown",
   "metadata": {},
   "source": [
    "# Task #1\n",
    "***"
   ]
  },
  {
   "cell_type": "markdown",
   "metadata": {},
   "source": [
    "Write a Python function called `sqrt2`that calculates and prints to the screen the square root of 2 to 100 decimal places.\n",
    "***"
   ]
  },
  {
   "cell_type": "markdown",
   "metadata": {},
   "source": [
    "### Solution for the Task #1"
   ]
  },
  {
   "cell_type": "markdown",
   "metadata": {},
   "source": [
    "Newton's method:"
   ]
  },
  {
   "cell_type": "code",
   "execution_count": 5,
   "metadata": {},
   "outputs": [],
   "source": [
    "# A function to calculate the square root of a number x.\n",
    "def sqrt():\n",
    "    \"\"\"\n",
    "    A function to calculate the square root of a number x\n",
    "    \"\"\"\n",
    "    # Initial guess for the square root z\n",
    "    x = 2\n",
    "    z = x / 2\n",
    "    # Loop until we're happy with the accuracy\n",
    "    while abs(x - (z * z)) > 0.000001:\n",
    "        # Calculate a better guess for the square root.\n",
    "        z -= (z*z - x) / (2*z)\n",
    "    # Return the (approximate) square root of x.   \n",
    "    return z"
   ]
  },
  {
   "cell_type": "code",
   "execution_count": 6,
   "metadata": {},
   "outputs": [
    {
     "data": {
      "text/plain": [
       "1.4142135623746899"
      ]
     },
     "execution_count": 6,
     "metadata": {},
     "output_type": "execute_result"
    }
   ],
   "source": [
    "sqrt()"
   ]
  },
  {
   "cell_type": "markdown",
   "metadata": {},
   "source": [
    "Binary search. Take high limit as n+1 and low limit as 0 and apply binary search. [1] - \n",
    "# This code is not working correctly!!!!!\n",
    "Check the ref list starting 2 for solution to fix it."
   ]
  },
  {
   "cell_type": "code",
   "execution_count": 2,
   "metadata": {},
   "outputs": [],
   "source": [
    "def sqrt2():\n",
    "    n = 2\n",
    "    low = 0\n",
    "    high = n + 1\n",
    "\n",
    "    while (high - low) > 1:\n",
    "        mid = (low + high)/2\n",
    "        if (mid*mid <= n):\n",
    "            low = mid\n",
    "        else:\n",
    "            high = mid\n",
    "    return low"
   ]
  },
  {
   "cell_type": "code",
   "execution_count": 3,
   "metadata": {},
   "outputs": [
    {
     "name": "stdout",
     "output_type": "stream",
     "text": [
      "0.7500000000000000000000000000000000000000000000000000000000000000000000000000000000000000000000000000\n"
     ]
    }
   ],
   "source": [
    "print (\"{0:.100f}\".format(sqrt2()))"
   ]
  },
  {
   "cell_type": "code",
   "execution_count": null,
   "metadata": {},
   "outputs": [],
   "source": []
  },
  {
   "cell_type": "markdown",
   "metadata": {},
   "source": [
    "#### Reference List:\n",
    "[1]. How do I write a program for finding the square root of a number without using the sqrt function?. https://www.quora.com/How-do-I-write-a-program-for-finding-the-square-root-of-a-number-without-using-the-sqrt-function\n",
    "[2]. https://algotree.org/algorithms/binary_search/squareroot/\n",
    "[3]. https://codereview.stackexchange.com/questions/226340/compute-the-square-root-of-a-positive-integer-using-binary-search\n",
    "[4]. Java: https://stackoverflow.com/questions/61936060/finding-the-square-root-of-a-number-by-using-binary-search\n",
    "[5]. Python, Java and C: https://www.xspdf.com/resolution/54877450.html\n",
    "[6]. https://inginious.org/course/competitive-programming/binsearch-squareroot\n",
    "[7]. https://www.techiedelight.com/find-square-root-using-binary-search-algorithm/\n",
    "[8]. C: https://stackoverflow.com/questions/40849402/using-binary-search-to-find-the-square-root-of-a-number-in-c/40849680\n",
    "[9]. https://stackoverflow.com/questions/52176199/binary-search-for-square-root-2\n",
    "[10]. https://www.geeksforgeeks.org/find-square-root-number-upto-given-precision-using-binary-search/"
   ]
  },
  {
   "cell_type": "code",
   "execution_count": null,
   "metadata": {},
   "outputs": [],
   "source": []
  }
 ],
 "metadata": {
  "kernelspec": {
   "display_name": "Python 3",
   "language": "python",
   "name": "python3"
  },
  "language_info": {
   "codemirror_mode": {
    "name": "ipython",
    "version": 3
   },
   "file_extension": ".py",
   "mimetype": "text/x-python",
   "name": "python",
   "nbconvert_exporter": "python",
   "pygments_lexer": "ipython3",
   "version": "3.8.3"
  }
 },
 "nbformat": 4,
 "nbformat_minor": 4
}
